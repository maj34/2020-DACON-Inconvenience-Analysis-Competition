{
 "cells": [
  {
   "cell_type": "markdown",
   "metadata": {},
   "source": [
    "# Import"
   ]
  },
  {
   "cell_type": "code",
   "execution_count": 1,
   "metadata": {},
   "outputs": [],
   "source": [
    "### 기본\n",
    "import pandas as pd\n",
    "import numpy as np\n",
    "import datetime as dt\n",
    "import matplotlib.pyplot as plt\n",
    "\n",
    "### tuning\n",
    "from sklearn.metrics import *\n",
    "from sklearn.model_selection import KFold\n",
    "import warnings\n",
    "\n",
    "### model \n",
    "import lightgbm as lgb\n",
    "\n",
    "### os\n",
    "from tqdm import tqdm\n",
    "import gc\n",
    "import random\n",
    "import re\n",
    "\n",
    "warnings.filterwarnings(action='ignore')"
   ]
  },
  {
   "cell_type": "code",
   "execution_count": 2,
   "metadata": {
    "scrolled": true
   },
   "outputs": [],
   "source": [
    "# -*- coding: utf-8 -*- \n",
    "\n",
    "# Data Wrangling\n",
    "import pandas as pd\n",
    "from pandas import Series, DataFrame\n",
    "import numpy as np\n",
    "\n",
    "# Visualization\n",
    "import matplotlib.pylab as plt\n",
    "from matplotlib import font_manager, rc\n",
    "import seaborn as sns\n",
    "%matplotlib inline\n",
    "\n",
    "# EDA\n",
    "import klib\n",
    "\n",
    "# Preprocessing & Feature Engineering\n",
    "from sklearn.model_selection import train_test_split\n",
    "from sklearn.preprocessing import MinMaxScaler\n",
    "from sklearn.impute import SimpleImputer \n",
    "from sklearn.preprocessing import StandardScaler\n",
    "from sklearn.preprocessing import MinMaxScaler\n",
    "from sklearn.preprocessing import PowerTransformer\n",
    "from sklearn.feature_selection import SelectPercentile\n",
    "\n",
    "# Hyperparameter Optimization\n",
    "from sklearn.model_selection import GridSearchCV\n",
    "from sklearn.model_selection import RandomizedSearchCV\n",
    "\n",
    "# Modeling\n",
    "from sklearn.dummy import DummyClassifier\n",
    "from sklearn.linear_model import LogisticRegression\n",
    "from sklearn.neighbors import KNeighborsClassifier\n",
    "from sklearn.ensemble import RandomForestClassifier\n",
    "from sklearn.neural_network import MLPClassifier\n",
    "from sklearn.tree import DecisionTreeClassifier\n",
    "from sklearn.ensemble import GradientBoostingClassifier\n",
    "from sklearn.svm import SVC\n",
    "from sklearn.ensemble import VotingClassifier\n",
    "from sklearn.ensemble import StackingClassifier\n",
    "from sklearn.svm import SVC\n",
    "from sklearn.tree import DecisionTreeClassifier\n",
    "from xgboost import XGBClassifier\n",
    "from lightgbm import LGBMClassifier\n",
    "from catboost import CatBoostClassifier\n",
    "from sklearn.ensemble import ExtraTreesClassifier\n",
    "\n",
    "'''import tensorflow as tf\n",
    "from tensorflow import keras\n",
    "import keras.backend as K'''\n",
    "\n",
    "# Evaluation\n",
    "from sklearn.metrics import roc_auc_score\n",
    "from sklearn.metrics import accuracy_score\n",
    "from sklearn.model_selection import cross_val_score\n",
    "\n",
    "# Utility\n",
    "import os\n",
    "import time\n",
    "import random\n",
    "import warnings; warnings.filterwarnings(\"ignore\")\n",
    "from IPython.display import Image\n",
    "import pickle\n",
    "from tqdm import tqdm\n",
    "import platform\n",
    "from itertools import combinations\n",
    "from scipy.stats.mstats import gmean\n",
    "import time"
   ]
  },
  {
   "cell_type": "markdown",
   "metadata": {},
   "source": [
    "# Data load"
   ]
  },
  {
   "cell_type": "code",
   "execution_count": 3,
   "metadata": {},
   "outputs": [],
   "source": [
    "train_x = np.array(pd.read_csv('train_x_d.csv').fillna(0).drop(['user_id'],axis=1))\n",
    "test_x = np.array(pd.read_csv('test_x_d.csv').fillna(0).drop(['user_id'],axis=1))\n",
    "train_y = np.array(pd.read_csv('train_y.csv').drop(['user_id'],axis=1).ploblem)"
   ]
  },
  {
   "cell_type": "code",
   "execution_count": 5,
   "metadata": {
    "scrolled": false
   },
   "outputs": [
    {
     "data": {
      "text/html": [
       "<div>\n",
       "<style scoped>\n",
       "    .dataframe tbody tr th:only-of-type {\n",
       "        vertical-align: middle;\n",
       "    }\n",
       "\n",
       "    .dataframe tbody tr th {\n",
       "        vertical-align: top;\n",
       "    }\n",
       "\n",
       "    .dataframe thead th {\n",
       "        text-align: right;\n",
       "    }\n",
       "</style>\n",
       "<table border=\"1\" class=\"dataframe\">\n",
       "  <thead>\n",
       "    <tr style=\"text-align: right;\">\n",
       "      <th></th>\n",
       "      <th>0</th>\n",
       "      <th>1</th>\n",
       "      <th>2</th>\n",
       "      <th>3</th>\n",
       "      <th>4</th>\n",
       "      <th>5</th>\n",
       "      <th>6</th>\n",
       "      <th>7</th>\n",
       "      <th>8</th>\n",
       "      <th>9</th>\n",
       "      <th>...</th>\n",
       "      <th>9688</th>\n",
       "      <th>9689</th>\n",
       "      <th>9690</th>\n",
       "      <th>9691</th>\n",
       "      <th>9692</th>\n",
       "      <th>9693</th>\n",
       "      <th>9694</th>\n",
       "      <th>9695</th>\n",
       "      <th>9696</th>\n",
       "      <th>9697</th>\n",
       "    </tr>\n",
       "  </thead>\n",
       "  <tbody>\n",
       "    <tr>\n",
       "      <th>0</th>\n",
       "      <td>1.0</td>\n",
       "      <td>1.0</td>\n",
       "      <td>14.0</td>\n",
       "      <td>3.0</td>\n",
       "      <td>285.0</td>\n",
       "      <td>0.0</td>\n",
       "      <td>11.0</td>\n",
       "      <td>9.0</td>\n",
       "      <td>18.0</td>\n",
       "      <td>5.0</td>\n",
       "      <td>...</td>\n",
       "      <td>0.000000</td>\n",
       "      <td>0.000000</td>\n",
       "      <td>0.0</td>\n",
       "      <td>0.000000</td>\n",
       "      <td>0.000000</td>\n",
       "      <td>0.000000</td>\n",
       "      <td>0.0</td>\n",
       "      <td>0.000000</td>\n",
       "      <td>0.000000</td>\n",
       "      <td>0.000000</td>\n",
       "    </tr>\n",
       "    <tr>\n",
       "      <th>1</th>\n",
       "      <td>1.0</td>\n",
       "      <td>2.0</td>\n",
       "      <td>26.0</td>\n",
       "      <td>12.0</td>\n",
       "      <td>2201.0</td>\n",
       "      <td>0.0</td>\n",
       "      <td>11.0</td>\n",
       "      <td>50.0</td>\n",
       "      <td>29.0</td>\n",
       "      <td>48.0</td>\n",
       "      <td>...</td>\n",
       "      <td>0.482376</td>\n",
       "      <td>1.093927</td>\n",
       "      <td>0.0</td>\n",
       "      <td>0.223297</td>\n",
       "      <td>0.223297</td>\n",
       "      <td>0.000000</td>\n",
       "      <td>0.0</td>\n",
       "      <td>2.394592</td>\n",
       "      <td>1.427859</td>\n",
       "      <td>0.223297</td>\n",
       "    </tr>\n",
       "    <tr>\n",
       "      <th>2</th>\n",
       "      <td>1.0</td>\n",
       "      <td>1.0</td>\n",
       "      <td>16.0</td>\n",
       "      <td>4.0</td>\n",
       "      <td>284.0</td>\n",
       "      <td>0.0</td>\n",
       "      <td>10.0</td>\n",
       "      <td>13.0</td>\n",
       "      <td>13.0</td>\n",
       "      <td>15.0</td>\n",
       "      <td>...</td>\n",
       "      <td>0.000000</td>\n",
       "      <td>0.000000</td>\n",
       "      <td>0.0</td>\n",
       "      <td>0.000000</td>\n",
       "      <td>0.000000</td>\n",
       "      <td>0.000000</td>\n",
       "      <td>0.0</td>\n",
       "      <td>0.000000</td>\n",
       "      <td>0.000000</td>\n",
       "      <td>0.000000</td>\n",
       "    </tr>\n",
       "    <tr>\n",
       "      <th>3</th>\n",
       "      <td>1.0</td>\n",
       "      <td>2.0</td>\n",
       "      <td>18.0</td>\n",
       "      <td>13.0</td>\n",
       "      <td>244.0</td>\n",
       "      <td>0.0</td>\n",
       "      <td>9.0</td>\n",
       "      <td>14.0</td>\n",
       "      <td>10.0</td>\n",
       "      <td>5.0</td>\n",
       "      <td>...</td>\n",
       "      <td>0.471405</td>\n",
       "      <td>0.000000</td>\n",
       "      <td>0.0</td>\n",
       "      <td>0.212959</td>\n",
       "      <td>0.212959</td>\n",
       "      <td>0.212959</td>\n",
       "      <td>0.0</td>\n",
       "      <td>0.722179</td>\n",
       "      <td>0.212959</td>\n",
       "      <td>0.000000</td>\n",
       "    </tr>\n",
       "    <tr>\n",
       "      <th>4</th>\n",
       "      <td>1.0</td>\n",
       "      <td>2.0</td>\n",
       "      <td>18.0</td>\n",
       "      <td>12.0</td>\n",
       "      <td>693.0</td>\n",
       "      <td>0.0</td>\n",
       "      <td>25.0</td>\n",
       "      <td>21.0</td>\n",
       "      <td>49.0</td>\n",
       "      <td>28.0</td>\n",
       "      <td>...</td>\n",
       "      <td>0.574108</td>\n",
       "      <td>0.000000</td>\n",
       "      <td>0.0</td>\n",
       "      <td>0.000000</td>\n",
       "      <td>0.000000</td>\n",
       "      <td>0.000000</td>\n",
       "      <td>0.0</td>\n",
       "      <td>0.542586</td>\n",
       "      <td>0.000000</td>\n",
       "      <td>0.000000</td>\n",
       "    </tr>\n",
       "    <tr>\n",
       "      <th>...</th>\n",
       "      <td>...</td>\n",
       "      <td>...</td>\n",
       "      <td>...</td>\n",
       "      <td>...</td>\n",
       "      <td>...</td>\n",
       "      <td>...</td>\n",
       "      <td>...</td>\n",
       "      <td>...</td>\n",
       "      <td>...</td>\n",
       "      <td>...</td>\n",
       "      <td>...</td>\n",
       "      <td>...</td>\n",
       "      <td>...</td>\n",
       "      <td>...</td>\n",
       "      <td>...</td>\n",
       "      <td>...</td>\n",
       "      <td>...</td>\n",
       "      <td>...</td>\n",
       "      <td>...</td>\n",
       "      <td>...</td>\n",
       "      <td>...</td>\n",
       "    </tr>\n",
       "    <tr>\n",
       "      <th>14995</th>\n",
       "      <td>1.0</td>\n",
       "      <td>1.0</td>\n",
       "      <td>17.0</td>\n",
       "      <td>10.0</td>\n",
       "      <td>152.0</td>\n",
       "      <td>0.0</td>\n",
       "      <td>0.0</td>\n",
       "      <td>0.0</td>\n",
       "      <td>0.0</td>\n",
       "      <td>0.0</td>\n",
       "      <td>...</td>\n",
       "      <td>0.497930</td>\n",
       "      <td>0.000000</td>\n",
       "      <td>0.0</td>\n",
       "      <td>0.000000</td>\n",
       "      <td>0.000000</td>\n",
       "      <td>0.000000</td>\n",
       "      <td>0.0</td>\n",
       "      <td>1.113404</td>\n",
       "      <td>1.493789</td>\n",
       "      <td>0.481046</td>\n",
       "    </tr>\n",
       "    <tr>\n",
       "      <th>14996</th>\n",
       "      <td>1.0</td>\n",
       "      <td>1.0</td>\n",
       "      <td>4.0</td>\n",
       "      <td>2.0</td>\n",
       "      <td>3.0</td>\n",
       "      <td>0.0</td>\n",
       "      <td>0.0</td>\n",
       "      <td>0.0</td>\n",
       "      <td>0.0</td>\n",
       "      <td>0.0</td>\n",
       "      <td>...</td>\n",
       "      <td>0.000000</td>\n",
       "      <td>0.000000</td>\n",
       "      <td>0.0</td>\n",
       "      <td>0.000000</td>\n",
       "      <td>0.000000</td>\n",
       "      <td>0.000000</td>\n",
       "      <td>0.0</td>\n",
       "      <td>0.000000</td>\n",
       "      <td>0.000000</td>\n",
       "      <td>0.000000</td>\n",
       "    </tr>\n",
       "    <tr>\n",
       "      <th>14997</th>\n",
       "      <td>1.0</td>\n",
       "      <td>2.0</td>\n",
       "      <td>21.0</td>\n",
       "      <td>13.0</td>\n",
       "      <td>741.0</td>\n",
       "      <td>0.0</td>\n",
       "      <td>9.0</td>\n",
       "      <td>34.0</td>\n",
       "      <td>34.0</td>\n",
       "      <td>64.0</td>\n",
       "      <td>...</td>\n",
       "      <td>0.751729</td>\n",
       "      <td>3.796047</td>\n",
       "      <td>0.0</td>\n",
       "      <td>0.000000</td>\n",
       "      <td>0.000000</td>\n",
       "      <td>0.000000</td>\n",
       "      <td>0.0</td>\n",
       "      <td>3.162278</td>\n",
       "      <td>0.000000</td>\n",
       "      <td>0.000000</td>\n",
       "    </tr>\n",
       "    <tr>\n",
       "      <th>14998</th>\n",
       "      <td>1.0</td>\n",
       "      <td>2.0</td>\n",
       "      <td>14.0</td>\n",
       "      <td>8.0</td>\n",
       "      <td>113.0</td>\n",
       "      <td>0.0</td>\n",
       "      <td>7.0</td>\n",
       "      <td>0.0</td>\n",
       "      <td>10.0</td>\n",
       "      <td>0.0</td>\n",
       "      <td>...</td>\n",
       "      <td>0.566947</td>\n",
       "      <td>2.226922</td>\n",
       "      <td>0.0</td>\n",
       "      <td>0.185577</td>\n",
       "      <td>0.185577</td>\n",
       "      <td>0.000000</td>\n",
       "      <td>0.0</td>\n",
       "      <td>0.618590</td>\n",
       "      <td>0.000000</td>\n",
       "      <td>0.000000</td>\n",
       "    </tr>\n",
       "    <tr>\n",
       "      <th>14999</th>\n",
       "      <td>1.0</td>\n",
       "      <td>1.0</td>\n",
       "      <td>12.0</td>\n",
       "      <td>5.0</td>\n",
       "      <td>495.0</td>\n",
       "      <td>0.0</td>\n",
       "      <td>26.0</td>\n",
       "      <td>15.0</td>\n",
       "      <td>26.0</td>\n",
       "      <td>19.0</td>\n",
       "      <td>...</td>\n",
       "      <td>0.000000</td>\n",
       "      <td>0.000000</td>\n",
       "      <td>0.0</td>\n",
       "      <td>0.000000</td>\n",
       "      <td>0.000000</td>\n",
       "      <td>0.000000</td>\n",
       "      <td>0.0</td>\n",
       "      <td>0.000000</td>\n",
       "      <td>0.000000</td>\n",
       "      <td>0.000000</td>\n",
       "    </tr>\n",
       "  </tbody>\n",
       "</table>\n",
       "<p>15000 rows × 9698 columns</p>\n",
       "</div>"
      ],
      "text/plain": [
       "       0     1     2     3       4     5     6     7     8     9     ...  \\\n",
       "0       1.0   1.0  14.0   3.0   285.0   0.0  11.0   9.0  18.0   5.0  ...   \n",
       "1       1.0   2.0  26.0  12.0  2201.0   0.0  11.0  50.0  29.0  48.0  ...   \n",
       "2       1.0   1.0  16.0   4.0   284.0   0.0  10.0  13.0  13.0  15.0  ...   \n",
       "3       1.0   2.0  18.0  13.0   244.0   0.0   9.0  14.0  10.0   5.0  ...   \n",
       "4       1.0   2.0  18.0  12.0   693.0   0.0  25.0  21.0  49.0  28.0  ...   \n",
       "...     ...   ...   ...   ...     ...   ...   ...   ...   ...   ...  ...   \n",
       "14995   1.0   1.0  17.0  10.0   152.0   0.0   0.0   0.0   0.0   0.0  ...   \n",
       "14996   1.0   1.0   4.0   2.0     3.0   0.0   0.0   0.0   0.0   0.0  ...   \n",
       "14997   1.0   2.0  21.0  13.0   741.0   0.0   9.0  34.0  34.0  64.0  ...   \n",
       "14998   1.0   2.0  14.0   8.0   113.0   0.0   7.0   0.0  10.0   0.0  ...   \n",
       "14999   1.0   1.0  12.0   5.0   495.0   0.0  26.0  15.0  26.0  19.0  ...   \n",
       "\n",
       "           9688      9689  9690      9691      9692      9693  9694      9695  \\\n",
       "0      0.000000  0.000000   0.0  0.000000  0.000000  0.000000   0.0  0.000000   \n",
       "1      0.482376  1.093927   0.0  0.223297  0.223297  0.000000   0.0  2.394592   \n",
       "2      0.000000  0.000000   0.0  0.000000  0.000000  0.000000   0.0  0.000000   \n",
       "3      0.471405  0.000000   0.0  0.212959  0.212959  0.212959   0.0  0.722179   \n",
       "4      0.574108  0.000000   0.0  0.000000  0.000000  0.000000   0.0  0.542586   \n",
       "...         ...       ...   ...       ...       ...       ...   ...       ...   \n",
       "14995  0.497930  0.000000   0.0  0.000000  0.000000  0.000000   0.0  1.113404   \n",
       "14996  0.000000  0.000000   0.0  0.000000  0.000000  0.000000   0.0  0.000000   \n",
       "14997  0.751729  3.796047   0.0  0.000000  0.000000  0.000000   0.0  3.162278   \n",
       "14998  0.566947  2.226922   0.0  0.185577  0.185577  0.000000   0.0  0.618590   \n",
       "14999  0.000000  0.000000   0.0  0.000000  0.000000  0.000000   0.0  0.000000   \n",
       "\n",
       "           9696      9697  \n",
       "0      0.000000  0.000000  \n",
       "1      1.427859  0.223297  \n",
       "2      0.000000  0.000000  \n",
       "3      0.212959  0.000000  \n",
       "4      0.000000  0.000000  \n",
       "...         ...       ...  \n",
       "14995  1.493789  0.481046  \n",
       "14996  0.000000  0.000000  \n",
       "14997  0.000000  0.000000  \n",
       "14998  0.000000  0.000000  \n",
       "14999  0.000000  0.000000  \n",
       "\n",
       "[15000 rows x 9698 columns]"
      ]
     },
     "execution_count": 5,
     "metadata": {},
     "output_type": "execute_result"
    }
   ],
   "source": [
    "pd.DataFrame(train_x)"
   ]
  },
  {
   "cell_type": "code",
   "execution_count": 3,
   "metadata": {
    "scrolled": true
   },
   "outputs": [],
   "source": [
    "#train_x = np.array((pd.read_csv('train_x.csv')).drop(['user_id'],axis=1))\n",
    "#test_x = np.array((pd.read_csv('test_x.csv')).drop(['user_id'],axis=1))\n",
    "#train_y = np.array(pd.read_csv('train_y.csv').drop(['user_id'],axis=1).ploblem)\n",
    "#test_id = pd.read_csv('test_x.csv')#.user_id"
   ]
  },
  {
   "cell_type": "code",
   "execution_count": 4,
   "metadata": {},
   "outputs": [],
   "source": [
    "# 학습데이터 70%, 평가데이터 30%로 데이터 분할\n",
    "X_train, X_dev, y_train, y_dev = train_test_split(train_x, train_y, test_size=0.3, random_state=0)"
   ]
  },
  {
   "cell_type": "code",
   "execution_count": 9,
   "metadata": {
    "scrolled": false
   },
   "outputs": [
    {
     "name": "stderr",
     "output_type": "stream",
     "text": [
      " 11%|████████▉                                                                       | 1/9 [45:07<6:01:02, 2707.79s/it]"
     ]
    },
    {
     "name": "stdout",
     "output_type": "stream",
     "text": [
      "CatBoostClassifier                                   0.847352 2707.7\n",
      "final params {'random_strength': 0.7, 'n_estimators': 250, 'l2_leaf_reg': 8, 'depth': 11}\n",
      "[LightGBM] [Warning] boosting is set=gbdt, boosting_type=gbdt will be ignored. Current value: boosting=gbdt\n",
      "[LightGBM] [Warning] feature_fraction is set=0.7, colsample_bytree=1.0 will be ignored. Current value: feature_fraction=0.7\n",
      "[LightGBM] [Warning] min_data_in_leaf is set=10, min_child_samples=45 will be ignored. Current value: min_data_in_leaf=10\n",
      "[LightGBM] [Warning] bagging_freq is set=6, subsample_freq=0 will be ignored. Current value: bagging_freq=6\n",
      "[LightGBM] [Warning] num_iterations is set=300, num_iteration=300 will be ignored. Current value: num_iterations=300\n",
      "LGBMClassifier                                       0.844695 25.1\n",
      "final params {'reg_lambda': 2, 'num_leaves': 15, 'num_iteration': 300, 'n_estimators': 140, 'min_split_gain': 0.8, 'min_data_in_leaf': 10, 'min_child_samples': 45, 'max_depth': 10, 'learning_rate': 0.01, 'feature_fraction': 0.7, 'boosting': 'gbdt', 'boost_from_average': False, 'bagging_freq': 6}\n"
     ]
    },
    {
     "name": "stderr",
     "output_type": "stream",
     "text": [
      "\r\n",
      " 22%|█████████████████▊                                                              | 2/9 [45:35<3:42:05, 1903.69s/it]"
     ]
    },
    {
     "name": "stdout",
     "output_type": "stream",
     "text": [
      "[00:46:52] WARNING: C:/Users/Administrator/workspace/xgboost-win64_release_1.3.0/src/learner.cc:541: \n",
      "Parameters: { boost_from_average, subsamle } might not be used.\n",
      "\n",
      "  This may not be accurate due to some parameters are only used in language bindings but\n",
      "  passed down to XGBoost core.  Or some parameters are not used but slip through this\n",
      "  verification. Please open an issue if you find above cases.\n",
      "\n",
      "\n",
      "XGBClassifier                                        0.844089 1174.0\n",
      "final params {'subsamle': 1, 'scale_pos_weight': 3.4000000000000004, 'reg_lambda': 0.005, 'reg_alpha': 0.001, 'objective': 'binary:logistic', 'n_estimators': 200, 'min_split_loss': 10, 'min_child_weight': 20, 'max_depth': 10, 'learning_rate': 0.01, 'eval_metric': 'error', 'colsample_bytree': 0.9, 'boost_from_average': False}\n"
     ]
    },
    {
     "name": "stderr",
     "output_type": "stream",
     "text": [
      "\r\n",
      " 33%|██████████████████████████                                                    | 3/9 [1:05:12<2:48:35, 1685.87s/it]"
     ]
    },
    {
     "name": "stdout",
     "output_type": "stream",
     "text": [
      "KNeighborsClassifier                                 0.701266 980.5\n",
      "final params {'weights': 'distance', 'p': 2, 'n_neighbors': 11, 'metric': 'manhattan', 'leaf_size': 20, 'algorithm': 'ball_tree'}\n"
     ]
    },
    {
     "name": "stderr",
     "output_type": "stream",
     "text": [
      "\r\n",
      " 44%|██████████████████████████████████▋                                           | 4/9 [1:35:02<2:23:04, 1716.92s/it]"
     ]
    },
    {
     "name": "stdout",
     "output_type": "stream",
     "text": [
      "MLPClassifier                                        0.640650 2111.2\n",
      "final params {'solver': 'adam', 'learning_rate': 'adaptive', 'hidden_layer_sizes': 10, 'batch_size': 'auto', 'alpha': 0.0001, 'activation': 'relu'}\n"
     ]
    },
    {
     "name": "stderr",
     "output_type": "stream",
     "text": [
      " 67%|████████████████████████████████████████████████████                          | 6/9 [2:19:30<1:12:35, 1451.76s/it]"
     ]
    },
    {
     "name": "stdout",
     "output_type": "stream",
     "text": [
      "LogisticRegression                                   0.696162 556.7\n",
      "final params {'penalty': 'l2', 'max_iter': 1000, 'C': 0.9}\n",
      "RandomForestClassifier                               0.808261 2170.1\n",
      "final params {'n_estimators': 100, 'min_samples_split': 2, 'min_samples_leaf': 4, 'min_impurity_decrease': 0.0002, 'max_features': 7758, 'max_depth': 4, 'criterion': 'gini', 'class_weight': {}, 'bootstrap': True}\n"
     ]
    },
    {
     "name": "stderr",
     "output_type": "stream",
     "text": [
      "\r\n",
      " 78%|██████████████████████████████████████████████████████████████▏                 | 7/9 [2:55:41<55:34, 1667.40s/it]"
     ]
    },
    {
     "name": "stdout",
     "output_type": "stream",
     "text": [
      "GradientBoostingClassifier                           0.847351 13188.2\n",
      "final params {'n_estimators': 300, 'min_samples_split': 10, 'min_samples_leaf': 3, 'min_impurity_decrease': 0.0005, 'max_features': 5818, 'max_depth': 10, 'loss': 'deviance', 'learning_rate': 0.01, 'criterion': 'friedman_mse'}\n"
     ]
    },
    {
     "name": "stderr",
     "output_type": "stream",
     "text": [
      "\r\n",
      " 89%|█████████████████████████████████████████████████████████████████████▎        | 8/9 [6:35:31<1:25:24, 5124.41s/it]"
     ]
    },
    {
     "name": "stdout",
     "output_type": "stream",
     "text": [
      "DecisionTreeClassifier                               0.797710 36.6\n",
      "final params {'splitter': 'best', 'min_samples_leaf': 50, 'max_depth': 6, 'criterion': 'gini'}\n"
     ]
    },
    {
     "name": "stderr",
     "output_type": "stream",
     "text": [
      "100%|████████████████████████████████████████████████████████████████████████████████| 9/9 [6:36:08<00:00, 2640.98s/it]"
     ]
    },
    {
     "name": "stdout",
     "output_type": "stream",
     "text": [
      "모델 수행 시간: 23768.9 초\n"
     ]
    },
    {
     "name": "stderr",
     "output_type": "stream",
     "text": [
      "\n"
     ]
    }
   ],
   "source": [
    "clfs = [\n",
    "    #(\n",
    "     #   SVC(random_state=0, probability=True),\n",
    "      #  {'kernel': ['linear','rbf'],\n",
    "       #  'C' : [0.001, 0.01, 0.1, 1, 10, 100],\n",
    "        # 'gamma': [0.001, 0.01, 0.1, 1, 10, 100]\n",
    "        #}\n",
    "    #),\n",
    "    (\n",
    "        CatBoostClassifier(random_state=0, verbose=False),\n",
    "        {'n_estimators': range(10, 310, 10),\n",
    "         'depth': [1, 2, 3, 4, 5, 6, 7, 8, 9, 10, 11],\n",
    "         'random_strength': [0.0,0.1,0.2,0.3,0.4,0.5,0.6,0.7,0.8],\n",
    "         'l2_leaf_reg': [1,2,3,4,5,6,7,8,9,10,20,30,50,100,200]}\n",
    "    ),\n",
    "    (\n",
    "        LGBMClassifier(random_state=0),\n",
    "        {'num_iteration': [100, 200, 300],\n",
    "         'learning_rate': [1, 0.1, 0.01],\n",
    "         'max_depth':[3,4,6,8,10],\n",
    "         'min_data_in_leaf':[5,10,50,70,100],\n",
    "         'num_leaves':[15,31,35],\n",
    "         'boosting':['gbdt','rf'],\n",
    "         'n_estimators': range(10, 200, 10),\n",
    "         'min_split_gain': [0,0.1,0.2,0.3,0.4,0.5,0.6,0.7,0.8,0.9],\n",
    "         #'reg_alpha': [0.001,0.01,0.0005,0.005,0.05,0.1,0.15,0.2,0.3,0.4,0.5,0.7,1,2,3,4,5,10],\n",
    "         'reg_lambda': [0.001,0.01,0.0005,0.005,0.05,0.1,0.15,0.2,0.3,0.4,0.5,0.7,1,2,3,4,5,10],\n",
    "         'feature_fraction': [0.4, 0.5, 0.6, 0.7, 0.8, 0.9, 1.0],\n",
    "         #'bagging_fraction': [0.4, 0.5, 0.6, 0.7, 0.8, 0.9, 1.0],\n",
    "         'bagging_freq': [1, 2, 3, 4, 5, 6, 7],\n",
    "         'min_child_samples': range(5,50,5),\n",
    "         'boost_from_average' : [False]\n",
    "         }\n",
    "    ),\n",
    "    (\n",
    "        XGBClassifier(random_state=0),\n",
    "        {'learning_rate': [1, 0.1, 0.01],\n",
    "         'n_estimators': [100, 200, 300],\n",
    "         'max_depth':[3,4,6,8,10],\n",
    "         'subsample':[0.3, 0.5, 0.7, 1],\n",
    "         'min_child_weight':[10,20,50,100],\n",
    "         'objective':['binary:logistic'],\n",
    "         'eval_metric':['error'],\n",
    "         'min_split_loss':[10,20,50,100],\n",
    "         'colsample_bytree': [0.5, 0.7, 0.9, 1],\n",
    "         'reg_alpha': [0.0001,0.001,0.01,0.0005,0.005,0.05,0.1,0.15,0.2,0.3,0.4,0.5,0.7,1,2,3,4,5,10],\n",
    "         'reg_lambda': [0.0001,0.001,0.01,0.0005,0.005,0.05,0.1,0.15,0.2,0.3,0.4,0.5,0.7,1,2,3,4,5,10],\n",
    "         'scale_pos_weight': np.arange(0.0, 50.1, 0.1),\n",
    "         'boost_from_average' : [False]\n",
    "        }\n",
    "    ),\n",
    "    (\n",
    "        KNeighborsClassifier(),              # 사용하려는 모델\n",
    "        {'n_neighbors': [3,5,7,9,11],        # 최적화하려는 하이퍼파라미터\n",
    "         'weights': ['uniform','distance'],\n",
    "         'algorithm': ['auto','ball_tree', 'kd_tree', 'brute'],\n",
    "         'leaf_size': [10, 20, 30, 40],\n",
    "         'p': [1,2],\n",
    "         'metric': ['minkowski', 'euclidean', 'manhattan']}\n",
    "    ),\n",
    "    (\n",
    "        MLPClassifier(random_state=0),\n",
    "        {'batch_size': ['auto', 32, 64, 128],\n",
    "         'learning_rate' : ['constant', 'adaptive','invscaling'],\n",
    "         'activation': ['tanh', 'relu'],\n",
    "         'solver': ['sgd', 'adam'],\n",
    "         'hidden_layer_sizes': [10,30,50,100],\n",
    "         'alpha': [1e-07,1e-06,0.0001,0.001,0.01,0.0005,0.005,0.05,0.1,0.15,0.2,0.3,0.4,0.5,0.7,0.9]}\n",
    "    ),\n",
    "    (\n",
    "        LogisticRegression(random_state=0),  \n",
    "        {'C': np.arange(0.1, 1.1, 0.1),      \n",
    "         'penalty': ['l1','l2'],\n",
    "         'max_iter' : [100, 300, 500, 1000]}\n",
    "    ),\n",
    "    (\n",
    "        RandomForestClassifier(random_state=0),\n",
    "        {'n_estimators': [100,200,300],\n",
    "         'max_depth': [None,3,4,5,6],\n",
    "         'max_features': (np.arange(0.5, 1.0, 0.1)*X_train.shape[1]).astype(int),\n",
    "         'criterion': ['gini','entropy'],\n",
    "         'min_samples_split':[2,3,4],\n",
    "         'min_samples_leaf':[1,2,4],\n",
    "         'min_impurity_decrease': [0,0.0001,0.001,0.01,0.0002,0.002,0.02,0.0005,0.005,0.05,0.1,0.2,0.3,0.4,0.5],\n",
    "         'bootstrap': [True, False],\n",
    "         'class_weight': ['balanced', 'balanced_subsample', {}]}\n",
    "    ),\n",
    "    (\n",
    "        GradientBoostingClassifier(random_state=0),\n",
    "        {'n_estimators': [100, 200, 300],\n",
    "         'learning_rate': [1, 0.1, 0.01],\n",
    "         'criterion': ['friedman_mse', 'mse', 'mae'],\n",
    "         'loss': ['deviance', 'exponential'],\n",
    "         'min_samples_split': [2, 4, 5, 7, 9, 10],\n",
    "         'min_samples_leaf': [1, 2, 3, 4, 5],\n",
    "         'max_depth': [1, 2, 3, 4, 5, 6, 7, 8, 9, 10, 11],\n",
    "         'min_impurity_decrease': [0,0.0001,0.001,0.01,0.0002,0.002,0.02,0.0005,0.005,0.05,0.1,0.2,0.3,0.4,0.5],\n",
    "         'max_features': (np.arange(0.5, 1.0, 0.1)*X_train.shape[1]).astype(int)\n",
    "        }\n",
    "    ),\n",
    "    (\n",
    "        DecisionTreeClassifier(random_state=0),\n",
    "        {'criterion' :['gini','entropy'],\n",
    "         'max_depth':[3,4,6,8,10],\n",
    "         'min_samples_leaf':[3,5,10,50,100],\n",
    "         'splitter':[\"best\",\"random\"]\n",
    "        }\n",
    "    ),\n",
    "]\n",
    "\n",
    "clfs_tuned = []  # 튜닝된 모델을 저장\n",
    "start_time = time.time()\n",
    "for clf, param_grid in tqdm(clfs):\n",
    "    start = time.time()\n",
    "    rand_search = RandomizedSearchCV(clf, param_grid, n_iter=8, scoring='roc_auc', \n",
    "                                     cv=3, random_state=0, n_jobs=6)\n",
    "    rand_search.fit(X_train, y_train)\n",
    "    clf_name = type(clf).__name__\n",
    "    clf_score = rand_search.score(X_dev, y_dev)\n",
    "    print('{:30s} {:30f} {:.1f}'.format(clf_name, clf_score, time.time() - start))\n",
    "    print('final params', rand_search.best_params_)\n",
    "    clfs_tuned.append((clf_name, rand_search, clf_score))\n",
    "    globals()['{}_pred'.format(clf_name)] = pd.DataFrame(rand_search.best_estimator_.predict_proba(test_x))\n",
    "print('모델 수행 시간: {0:.1f} 초'.format(time.time()- start_time))"
   ]
  },
  {
   "cell_type": "code",
   "execution_count": null,
   "metadata": {},
   "outputs": [],
   "source": [
    "#submission = pd.DataFrame({'user_id':test_id,'problem':CatBoostClassifier_pred.iloc[:,1]});submission"
   ]
  },
  {
   "cell_type": "code",
   "execution_count": null,
   "metadata": {},
   "outputs": [],
   "source": [
    "#t = pd.Timestamp.now()\n",
    "#submission.to_csv(f'submission_{t.month:02}{t.day:02}_{t.hour:02}{t.minute:02}.csv',index=False,encoding='cp949')"
   ]
  },
  {
   "cell_type": "code",
   "execution_count": 13,
   "metadata": {},
   "outputs": [
    {
     "data": {
      "image/png": "[encoded data removed]",
      "text/plain": [
       "<Figure size 576x432 with 2 Axes>"
      ]
     },
     "metadata": {
      "needs_background": "light"
     },
     "output_type": "display_data"
    }
   ],
   "source": [
    "pred_results = []\n",
    "for name, clf, clf_score in clfs_tuned:\n",
    "    pred = clf.predict_proba(X_dev)[:,1]\n",
    "    name = f'{name} \\n({clf_score:.4f})'\n",
    "    pred_results.append(pd.Series(pred, name=name))\n",
    "ensemble_results = pd.concat(pred_results, axis=1)\n",
    "\n",
    "# 모형의 예측값 간의 상관관계를 보기 위해 hitmap을 도식한다.\n",
    "plt.figure(figsize = (8,6))\n",
    "g = sns.heatmap(ensemble_results.corr(), annot=True, cmap='Blues')\n",
    "g.set_title(\"Correlation between models\")\n",
    "plt.show()"
   ]
  },
  {
   "cell_type": "code",
   "execution_count": 14,
   "metadata": {},
   "outputs": [
    {
     "data": {
      "text/plain": [
       "CatBoostClassifier \\n(0.8474)            0.787387\n",
       "LGBMClassifier \\n(0.8447)                0.792156\n",
       "XGBClassifier \\n(0.8441)                 0.770553\n",
       "KNeighborsClassifier \\n(0.7013)          0.558720\n",
       "MLPClassifier \\n(0.6407)                 0.421885\n",
       "LogisticRegression \\n(0.6962)            0.563216\n",
       "RandomForestClassifier \\n(0.8083)        0.750252\n",
       "GradientBoostingClassifier \\n(0.8474)    0.777496\n",
       "DecisionTreeClassifier \\n(0.7977)        0.754040\n",
       "dtype: float64"
      ]
     },
     "execution_count": 14,
     "metadata": {},
     "output_type": "execute_result"
    }
   ],
   "source": [
    "# Mean agreement\n",
    "(ensemble_results.corr().sum()-1)/(ensemble_results.corr().shape[0]-1)"
   ]
  },
  {
   "cell_type": "markdown",
   "metadata": {},
   "source": [
    "### averaging"
   ]
  },
  {
   "cell_type": "code",
   "execution_count": 23,
   "metadata": {},
   "outputs": [],
   "source": [
    "# Averaging 앙상블에 사용하지 않을 모델은 주석 처리하시오.\n",
    "selected = [\n",
    "    'KNeighborsClassifier', \n",
    "    #'MLPClassifier',\n",
    "    'LogisticRegression', \n",
    "    #'RandomForestClassifier', \n",
    "    'GradientBoostingClassifier', \n",
    "    #'DecisionTreeClassifier',\n",
    "    'XGBClassifier', \n",
    "    'LGBMClassifier',\n",
    "    'CatBoostClassifier' \n",
    "    #'ExtraTreesClassifier'\n",
    "]\n",
    "models_for_ensemble = [clf for clf in clfs_tuned if clf[0] in selected]"
   ]
  },
  {
   "cell_type": "code",
   "execution_count": 24,
   "metadata": {
    "scrolled": true
   },
   "outputs": [
    {
     "name": "stderr",
     "output_type": "stream",
     "text": [
      "100%|████████████████████████████████████████████████████████████████████████████████| 1/1 [2:08:34<00:00, 7714.48s/it]"
     ]
    },
    {
     "name": "stdout",
     "output_type": "stream",
     "text": [
      "p=0\n",
      "CatBoostClassifier●GradientBoostingClassifier\n",
      "0.8498460405036152\n"
     ]
    },
    {
     "name": "stderr",
     "output_type": "stream",
     "text": [
      "\n"
     ]
    }
   ],
   "source": [
    "# 아래 코드는 추후 estimator class(\"BlendingClassifier\")로 만들 예정\n",
    "\n",
    "max_score = 0\n",
    "for p in tqdm([0]):  # p==1:산술평균, p=0:기하평균, 그 외:멱평균(주의:멱평균은 과적합 가능성이 높음)    \n",
    "    for i in range(2, len(models_for_ensemble)+1):\n",
    "        for models in combinations(models_for_ensemble, i):\n",
    "            if p == 0:\n",
    "                pred_mean = gmean([clf.predict_proba(X_dev)[:,1] for name, clf, _ in models], axis=0)\n",
    "            else:\n",
    "                preds = [clf.predict_proba(X_dev)[:,1] for name, clf, _ in models]\n",
    "                pred_mean = (np.sum(np.array(preds)**p, axis=0) / len(models))**(1/p)\n",
    "            score = roc_auc_score(y_dev, pred_mean)\n",
    "            if max_score < score:\n",
    "                best_avg_ensemble = (p, models, score)\n",
    "                max_score = score\n",
    "\n",
    "p, models, score = best_avg_ensemble\n",
    "print('p={}\\n{}\\n{}'.format(p, '●'.join([clf_name for clf_name, _, _ in models]), score))"
   ]
  },
  {
   "cell_type": "code",
   "execution_count": 16,
   "metadata": {
    "scrolled": true
   },
   "outputs": [],
   "source": [
    "import pickle\n",
    "import joblib"
   ]
  },
  {
   "cell_type": "code",
   "execution_count": 48,
   "metadata": {
    "scrolled": false
   },
   "outputs": [
    {
     "data": {
      "text/plain": [
       "['model_avg(0)_25%.pkl']"
      ]
     },
     "execution_count": 48,
     "metadata": {},
     "output_type": "execute_result"
    }
   ],
   "source": [
    "#joblib.dump(models,'model_avg(0)_25%.pkl')"
   ]
  },
  {
   "cell_type": "code",
   "execution_count": 6,
   "metadata": {},
   "outputs": [],
   "source": [
    "#models_for_ensemble = joblib.load('model_avg(0).pkl')"
   ]
  },
  {
   "cell_type": "code",
   "execution_count": 26,
   "metadata": {},
   "outputs": [],
   "source": [
    "t = pd.Timestamp.now()\n",
    "test_id = list(range(30000, 44999))\n",
    "\n",
    "if p == 0:\n",
    "    pred_mean = gmean([clf.predict_proba(test_x)[:,1] for name, clf, _ in models], axis=0)\n",
    "else:\n",
    "    preds = [clf.predict_proba(test_x)[:,1] for name, clf, _ in models]\n",
    "    pred_mean = (np.sum(np.array(preds)**p, axis=0) / len(models))**(1/p)\n",
    "pd.DataFrame({'user_id': test_id, 'problem': pred_mean}).to_csv(f'submission_avg_{t.month:02}{t.day:02}_{t.hour:02}{t.minute:02}.csv',index=False)"
   ]
  },
  {
   "cell_type": "markdown",
   "metadata": {},
   "source": [
    "### stacking"
   ]
  },
  {
   "cell_type": "code",
   "execution_count": 27,
   "metadata": {
    "scrolled": true
   },
   "outputs": [
    {
     "name": "stdout",
     "output_type": "stream",
     "text": [
      "[LightGBM] [Warning] boosting is set=gbdt, boosting_type=gbdt will be ignored. Current value: boosting=gbdt\n",
      "[LightGBM] [Warning] feature_fraction is set=0.7, colsample_bytree=1.0 will be ignored. Current value: feature_fraction=0.7\n",
      "[LightGBM] [Warning] min_data_in_leaf is set=10, min_child_samples=45 will be ignored. Current value: min_data_in_leaf=10\n",
      "[LightGBM] [Warning] bagging_freq is set=6, subsample_freq=0 will be ignored. Current value: bagging_freq=6\n",
      "[LightGBM] [Warning] num_iterations is set=300, num_iteration=300 will be ignored. Current value: num_iterations=300\n",
      "[20:21:34] WARNING: C:/Users/Administrator/workspace/xgboost-win64_release_1.3.0/src/learner.cc:541: \n",
      "Parameters: { boost_from_average, subsamle } might not be used.\n",
      "\n",
      "  This may not be accurate due to some parameters are only used in language bindings but\n",
      "  passed down to XGBoost core.  Or some parameters are not used but slip through this\n",
      "  verification. Please open an issue if you find above cases.\n",
      "\n",
      "\n",
      "[LightGBM] [Warning] boosting is set=gbdt, boosting_type=gbdt will be ignored. Current value: boosting=gbdt\n",
      "[LightGBM] [Warning] feature_fraction is set=0.7, colsample_bytree=1.0 will be ignored. Current value: feature_fraction=0.7\n",
      "[LightGBM] [Warning] min_data_in_leaf is set=10, min_child_samples=45 will be ignored. Current value: min_data_in_leaf=10\n",
      "[LightGBM] [Warning] bagging_freq is set=6, subsample_freq=0 will be ignored. Current value: bagging_freq=6\n",
      "[LightGBM] [Warning] num_iterations is set=300, num_iteration=300 will be ignored. Current value: num_iterations=300\n",
      "[LightGBM] [Warning] boosting is set=gbdt, boosting_type=gbdt will be ignored. Current value: boosting=gbdt\n",
      "[LightGBM] [Warning] feature_fraction is set=0.7, colsample_bytree=1.0 will be ignored. Current value: feature_fraction=0.7\n",
      "[LightGBM] [Warning] min_data_in_leaf is set=10, min_child_samples=45 will be ignored. Current value: min_data_in_leaf=10\n",
      "[LightGBM] [Warning] bagging_freq is set=6, subsample_freq=0 will be ignored. Current value: bagging_freq=6\n",
      "[LightGBM] [Warning] num_iterations is set=300, num_iteration=300 will be ignored. Current value: num_iterations=300\n",
      "[02:43:14] WARNING: C:/Users/Administrator/workspace/xgboost-win64_release_1.3.0/src/learner.cc:541: \n",
      "Parameters: { boost_from_average, subsamle } might not be used.\n",
      "\n",
      "  This may not be accurate due to some parameters are only used in language bindings but\n",
      "  passed down to XGBoost core.  Or some parameters are not used but slip through this\n",
      "  verification. Please open an issue if you find above cases.\n",
      "\n",
      "\n",
      "[02:56:29] WARNING: C:/Users/Administrator/workspace/xgboost-win64_release_1.3.0/src/learner.cc:541: \n",
      "Parameters: { boost_from_average, subsamle } might not be used.\n",
      "\n",
      "  This may not be accurate due to some parameters are only used in language bindings but\n",
      "  passed down to XGBoost core.  Or some parameters are not used but slip through this\n",
      "  verification. Please open an issue if you find above cases.\n",
      "\n",
      "\n",
      "[03:09:42] WARNING: C:/Users/Administrator/workspace/xgboost-win64_release_1.3.0/src/learner.cc:541: \n",
      "Parameters: { boost_from_average, subsamle } might not be used.\n",
      "\n",
      "  This may not be accurate due to some parameters are only used in language bindings but\n",
      "  passed down to XGBoost core.  Or some parameters are not used but slip through this\n",
      "  verification. Please open an issue if you find above cases.\n",
      "\n",
      "\n",
      "0.8491188101778678\n"
     ]
    }
   ],
   "source": [
    "# 2-layer stacking\n",
    "\n",
    "# Initialize 1st level estimators\n",
    "# 사용하지 않을 모델은 주석 처리하세요.\n",
    "selected = [\n",
    "    'KNeighborsClassifier', \n",
    "    #'MLPClassifier',\n",
    "    #'LogisticRegression', \n",
    "    'RandomForestClassifier', \n",
    "    'GradientBoostingClassifier',\n",
    "    #'DecisionTreeClassifier',\n",
    "    'XGBClassifier',\n",
    "    'LGBMClassifier',\n",
    "    'CatBoostClassifier',  \n",
    "]\n",
    "\n",
    "estimators = [(name, clf) for name, clf, _ in clfs_tuned if name in selected]\n",
    "stk_clf = StackingClassifier(\n",
    "    estimators=estimators, final_estimator=LogisticRegression(), cv=3)\n",
    "\n",
    "stk_clf.fit(X_train, y_train)\n",
    "print(roc_auc_score(y_dev, stk_clf.predict_proba(X_dev)[:,1]))  "
   ]
  },
  {
   "cell_type": "code",
   "execution_count": 54,
   "metadata": {
    "scrolled": true
   },
   "outputs": [],
   "source": [
    "t = pd.Timestamp.now()\n",
    "test_id = list(range(30000, 44999))\n",
    "\n",
    "if p == 0:\n",
    "    pred_mean = gmean([clf.predict_proba(test_x)[:,1] for name, clf, _ in models], axis=0)\n",
    "else:\n",
    "    preds = [clf.predict_proba(test_x)[:,1] for name, clf, _ in models]\n",
    "    pred_mean = (np.sum(np.array(preds)**p, axis=0) / len(models))**(1/p)\n",
    "pd.DataFrame({'user_id': test_id, 'problem': pred_mean}).to_csv(f'submission_avg_{t.month:02}{t.day:02}_{t.hour:02}{t.minute:02}.csv',index=False)\n",
    "\n",
    "# Apply the stacking model to Unseen Data\n",
    "pd.DataFrame({'user_id': test_id, 'problem': stk_clf.predict_proba(test_x)[:,1]}).to_csv(f'submission_stk_{t.month:02}{t.day:02}_{t.hour:02}{t.minute:02}.csv', index=False)"
   ]
  }
 ],
 "metadata": {
  "kernelspec": {
   "display_name": "Python 3",
   "language": "python",
   "name": "python3"
  },
  "language_info": {
   "codemirror_mode": {
    "name": "ipython",
    "version": 3
   },
   "file_extension": ".py",
   "mimetype": "text/x-python",
   "name": "python",
   "nbconvert_exporter": "python",
   "pygments_lexer": "ipython3",
   "version": "3.8.5"
  }
 },
 "nbformat": 4,
 "nbformat_minor": 4
}
